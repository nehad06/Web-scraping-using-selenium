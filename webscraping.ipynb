from selenium import webdriver
path = "C:\\Users\\Neha Deshpande\\scraping\\chromedriver"
driver= webdriver.Chrome(path)
searchtext= "colour+wheel"
driver.get("https://www.youtube.com/results?search_query="+searchtext)
elems = driver.find_elements_by_class_name('yt-simple-endpoint')
links= []
for elem in elems:
    href = elem.get_attribute('href')
    if href is not None and href.find("watch")!=-1:
        print(href)
        links.append(href)
driver.quit()
